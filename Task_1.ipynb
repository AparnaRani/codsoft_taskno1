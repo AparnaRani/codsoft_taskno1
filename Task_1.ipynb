{
  "cells": [
    {
      "cell_type": "code",
      "execution_count": null,
      "metadata": {
        "colab": {
          "background_save": true,
          "base_uri": "https://localhost:8080/"
        },
        "id": "195ra-ukr393",
        "outputId": "0ac4ecd2-a93f-467c-eb88-b6a7177f3624"
      },
      "outputs": [
        {
          "name": "stdout",
          "output_type": "stream",
          "text": [
            "Welcome to the simple chatbot! Type 'exit' to end the conversation.\n",
            "Chatbot: Hello! How can I help you today?\n",
            "Chatbot: Sure, I can help you place an order. What would you like to order?\n"
          ]
        }
      ],
      "source": [
        "def chatbot_response(user_input):\n",
        "    user_input = user_input.lower()\n",
        "    if \"hello\" in user_input or \"hi\" in user_input:\n",
        "        return \"Hello! How can I help you today?\"\n",
        "    elif \"how are you\" in user_input:\n",
        "        return \"I'm just a bot, but I'm here to help you!\"\n",
        "    elif \"bye\" in user_input or \"goodbye\" in user_input:\n",
        "        return \"Goodbye! Have a great day!\"\n",
        "    elif \"help\" in user_input:\n",
        "        return \"Sure, I'm here to help. What do you need assistance with?\"\n",
        "    elif \"order status\" in user_input:\n",
        "        return \"Can you please provide your order ID so I can check the status for you?\"\n",
        "    elif \"delivery time\" in user_input:\n",
        "        return \"Can you please provide your order ID so I can check the estimated delivery time for you?\"\n",
        "    elif \"cancel order\" in user_input:\n",
        "        return \"Can you please provide your order ID so I can assist with the cancellation?\"\n",
        "    elif \"place order\" in user_input:\n",
        "        return \"Sure, I can help you place an order. What would you like to order?\"\n",
        "    elif \"order details\" in user_input:\n",
        "        return \"Please provide the details of your order including the items and quantity.\"\n",
        "    elif \"confirm order\" in user_input:\n",
        "        return \"Your order has been confirmed! You will receive an order ID shortly.\"\n",
        "    else:\n",
        "        return \"I'm not sure how to respond to that. Can you please rephrase?\"\n",
        "\n",
        "def main():\n",
        "    print(\"Welcome to the simple chatbot! Type 'exit' to end the conversation.\")\n",
        "    while True:\n",
        "        user_input = input(\"You: \")\n",
        "        if user_input.lower() == 'exit':\n",
        "            print(\"Chatbot: Goodbye!\")\n",
        "            break\n",
        "        response = chatbot_response(user_input)\n",
        "        print(f\"Chatbot: {response}\")\n",
        "\n",
        "if __name__ == \"__main__\":\n",
        "    main()\n",
        "\n"
      ]
    },
    {
      "cell_type": "code",
      "execution_count": null,
      "metadata": {
        "colab": {
          "base_uri": "https://localhost:8080/"
        },
        "id": "rSgG5dbGr8e4",
        "outputId": "fb01b970-851c-4528-d78d-79b2ab31faad"
      },
      "outputs": [
        {
          "name": "stdout",
          "output_type": "stream",
          "text": [
            "Welcome to the simple chatbot! Type 'exit' to end the conversation.\n",
            "You: hello\n",
            "Chatbot: Hello! How can I help you today?\n",
            "You: i need help\n",
            "Chatbot: Sure, I'm here to help. What do you need assistance with?\n",
            "You: how to swim?\n",
            "Chatbot: I'm not sure how to respond to that. Can you please rephrase?\n",
            "You: exit\n",
            "Chatbot: Goodbye!\n"
          ]
        }
      ],
      "source": [
        "import re\n",
        "\n",
        "def chatbot_response(user_input):\n",
        "    user_input = user_input.lower()\n",
        "\n",
        "    # Define rules and responses using regular expressions\n",
        "    if re.search(r\"\\bhello\\b|\\bhi\\b\", user_input):\n",
        "        return \"Hello! How can I help you today?\"\n",
        "    elif re.search(r\"\\bhow are you\\b\", user_input):\n",
        "        return \"I'm just a bot, but I'm here to help you!\"\n",
        "    elif re.search(r\"\\bbye\\b|\\bgoodbye\\b\", user_input):\n",
        "        return \"Goodbye! Have a great day!\"\n",
        "    elif re.search(r\"\\bhelp\\b\", user_input):\n",
        "        return \"Sure, I'm here to help. What do you need assistance with?\"\n",
        "    else:\n",
        "        return \"I'm not sure how to respond to that. Can you please rephrase?\"\n",
        "\n",
        "def main():\n",
        "    print(\"Welcome to the simple chatbot! Type 'exit' to end the conversation.\")\n",
        "    while True:\n",
        "        user_input = input(\"You: \")\n",
        "        if user_input.lower() == 'exit':\n",
        "            print(\"Chatbot: Goodbye!\")\n",
        "            break\n",
        "        response = chatbot_response(user_input)\n",
        "        print(f\"Chatbot: {response}\")\n",
        "\n",
        "if __name__ == \"__main__\":\n",
        "    main()\n"
      ]
    }
  ],
  "metadata": {
    "colab": {
      "provenance": []
    },
    "kernelspec": {
      "display_name": "Python 3",
      "name": "python3"
    },
    "language_info": {
      "name": "python"
    }
  },
  "nbformat": 4,
  "nbformat_minor": 0
}